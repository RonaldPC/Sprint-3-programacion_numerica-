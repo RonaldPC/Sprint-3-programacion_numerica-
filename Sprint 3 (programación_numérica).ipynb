{
 "cells": [
  {
   "cell_type": "markdown",
   "id": "c85ed65c",
   "metadata": {},
   "source": [
    "# 1ª PARTE"
   ]
  },
  {
   "cell_type": "code",
   "execution_count": null,
   "id": "2996ebe0",
   "metadata": {},
   "outputs": [],
   "source": []
  },
  {
   "cell_type": "markdown",
   "id": "44eda291",
   "metadata": {},
   "source": [
    "## Ejercicio 1"
   ]
  },
  {
   "cell_type": "markdown",
   "id": "6199ab0b",
   "metadata": {},
   "source": [
    "### Función resumen básico estadístico de un array unidimesional."
   ]
  },
  {
   "cell_type": "code",
   "execution_count": 81,
   "id": "7b1702c1",
   "metadata": {},
   "outputs": [],
   "source": [
    "import numpy as np"
   ]
  },
  {
   "cell_type": "code",
   "execution_count": 87,
   "id": "7ad01f34",
   "metadata": {},
   "outputs": [
    {
     "name": "stdout",
     "output_type": "stream",
     "text": [
      "La media es: 75.0\n",
      "La mediana es: 75.0\n",
      "La varianza es: 216.67\n",
      "La desviación típica es: 14.72\n"
     ]
    }
   ],
   "source": [
    "\n",
    "def resum_estad(x):\n",
    "    if x.ndim < 2:\n",
    "        media_arit=np.mean(x).round(2)\n",
    "        mediana=np.median(x).round(2)\n",
    "        varianza=np.var(x).round(2)\n",
    "        desviacion_tipica=np.std(x).round(2)\n",
    "    else:\n",
    "        print(\"¡Error!\")\n",
    "    print('La media es:', media_arit), print('La mediana es:', mediana), print('La varianza es:', varianza),  print('La desviación típica es:', desviacion_tipica)\n",
    "\n",
    "\n",
    "array_uni= np.arange(50, 101)\n",
    "\n",
    "resum_estad(array_uni)\n"
   ]
  },
  {
   "cell_type": "code",
   "execution_count": null,
   "id": "11cb0c71",
   "metadata": {},
   "outputs": [],
   "source": []
  },
  {
   "cell_type": "markdown",
   "id": "4c7f5ce5",
   "metadata": {},
   "source": [
    "## Ejercicio 2"
   ]
  },
  {
   "cell_type": "markdown",
   "id": "a5ed0c55",
   "metadata": {},
   "source": [
    "### Función que crea un cuadrado NxN de números aleatorios entre 0 y 100"
   ]
  },
  {
   "cell_type": "code",
   "execution_count": 88,
   "id": "9db5fd19",
   "metadata": {},
   "outputs": [],
   "source": [
    "from numpy import random"
   ]
  },
  {
   "cell_type": "code",
   "execution_count": 89,
   "id": "2772ad9b",
   "metadata": {},
   "outputs": [
    {
     "name": "stdout",
     "output_type": "stream",
     "text": [
      "Ingrese número de filas que desee: 4\n",
      "Ingrese número de columnas que desee: 8\n",
      "[[54  8 42 32 36  2 93 33]\n",
      " [10 54 94 91 33 62 16 66]\n",
      " [66 21 54  5 57  7  0 14]\n",
      " [87 19 39 84 28 59 19 96]]\n"
     ]
    }
   ],
   "source": [
    "\n",
    "def cuadrado_NxN():\n",
    "    j=int(input(\"Ingrese número de filas que desee: \"))\n",
    "    k=int(input(\"Ingrese número de columnas que desee: \"))\n",
    "    cuadrado= random.randint (0,101, size=(j, k))\n",
    "    return cuadrado\n",
    "\n",
    "NxN=cuadrado_NxN()\n",
    "\n",
    "print(NxN)"
   ]
  },
  {
   "cell_type": "markdown",
   "id": "b925ae8c",
   "metadata": {},
   "source": [
    "## Ejercicio 3"
   ]
  },
  {
   "cell_type": "markdown",
   "id": "b2dee8dd",
   "metadata": {},
   "source": [
    "### Función que calcula la suma total por fila y por columna"
   ]
  },
  {
   "cell_type": "code",
   "execution_count": 90,
   "id": "886e2c0b",
   "metadata": {},
   "outputs": [
    {
     "name": "stdout",
     "output_type": "stream",
     "text": [
      "Suma de filas y columnas del suguiente array: \n",
      " [[40 40 39 88 93 45 37 85 50  1]\n",
      " [16 56 30 19  4 65 47 56 96 52]\n",
      " [23 66 80 34 59 10 38 23 52 43]\n",
      " [ 4 22 54 24 61 50 25 18 78 12]\n",
      " [ 5  5 48 56 66 15 86 33 26 35]\n",
      " [21 23 50 69  7 28 85 72 13 46]]\n",
      "\n",
      "\n",
      "\n",
      "\n",
      "La suma de cada fila es: [518 441 428 348 375 414]\n",
      "La suma de cada columna es: [109 212 301 290 290 213 318 287 315 189]\n"
     ]
    }
   ],
   "source": [
    "\n",
    "def suma_filas_columnas(x):\n",
    "    suma_filas=np.sum(x, axis=1)\n",
    "    suma_columnas=np.sum(x, axis=0)\n",
    "    print('La suma de cada fila es:', suma_filas)\n",
    "    print('La suma de cada columna es:', suma_columnas)\n",
    "\n",
    "\n",
    "array_ejempl=random.randint (0,101, size=(6, 10))\n",
    "print('Suma de filas y columnas del suguiente array:', '\\n', array_ejempl)\n",
    "print('\\n'*3)\n",
    "suma_filas_columnas(array_ejempl)\n"
   ]
  },
  {
   "cell_type": "code",
   "execution_count": null,
   "id": "48b05ff3",
   "metadata": {},
   "outputs": [],
   "source": []
  },
  {
   "cell_type": "markdown",
   "id": "c6cac111",
   "metadata": {},
   "source": [
    "## Ejercicio 4"
   ]
  },
  {
   "cell_type": "markdown",
   "id": "1c941bdb",
   "metadata": {},
   "source": [
    "### Función por pasos para el cálculo del coeficiente de correlación"
   ]
  },
  {
   "cell_type": "code",
   "execution_count": 91,
   "id": "bb26d643",
   "metadata": {},
   "outputs": [
    {
     "data": {
      "text/plain": [
       "0.81934"
      ]
     },
     "execution_count": 91,
     "metadata": {},
     "output_type": "execute_result"
    }
   ],
   "source": [
    "\n",
    "def coeficiente_correlacion_manual(x, y):\n",
    "    suma_x=np.sum(x)\n",
    "    suma_y=np.sum(y)\n",
    "\n",
    "    prod_escal=np.dot(x,y)\n",
    "\n",
    "    sum_x2=np.sum(x**2)\n",
    "    sum_y2=np.sum(y**2)\n",
    "    \n",
    "    #longitud por vector\n",
    "    long_x=len(x)\n",
    "    long_y=len(y)\n",
    "    \n",
    "    # Medias aritméticas\n",
    "    media_x=suma_x/long_x\n",
    "    media_y=suma_y/long_y\n",
    "    \n",
    "    # Covarianza\n",
    "    cova=prod_escal/long_x - media_x*media_y\n",
    "    # o \"/long_y\"\n",
    "    \n",
    "    # desviaciones típicas\n",
    "    desvT_x=np.sqrt(sum_x2/long_x - np.sum(media_x**2))\n",
    "    desvT_y=np.sqrt(sum_y2/long_y - np.sum(media_y**2))\n",
    "    \n",
    "    # Finalmente Coeficiente de correlación\n",
    "    coef_correl=cova/(desvT_x*desvT_y)\n",
    "    \n",
    "    return coef_correl\n",
    "\n",
    "\n",
    "## Ejemplo para aplicación de la función para ingresos y edad\n",
    "x=np.array([1900, 800, 1300, 1500, 2750, 1100, 1500, 2000, 1700, 2300, 3100 ])\n",
    "y=np.array([31, 18, 22, 28, 35, 27, 20, 29, 40, 38, 45])\n",
    "\n",
    "coeficiente_correlacion_manual(x, y).round(5)"
   ]
  },
  {
   "cell_type": "markdown",
   "id": "0c47a13d",
   "metadata": {},
   "source": [
    "### Coeficiente de correlación con función de Numpy\n"
   ]
  },
  {
   "cell_type": "code",
   "execution_count": 92,
   "id": "94b32504",
   "metadata": {},
   "outputs": [
    {
     "data": {
      "text/plain": [
       "array([[1.     , 0.81934],\n",
       "       [0.81934, 1.     ]])"
      ]
     },
     "execution_count": 92,
     "metadata": {},
     "output_type": "execute_result"
    }
   ],
   "source": [
    "coeficiente_correlacion_funcion=(np.corrcoef(x, y).round(5))\n",
    "coeficiente_correlacion_funcion"
   ]
  },
  {
   "cell_type": "code",
   "execution_count": null,
   "id": "3cbb1ff9",
   "metadata": {},
   "outputs": [],
   "source": []
  },
  {
   "cell_type": "markdown",
   "id": "2d96b941",
   "metadata": {},
   "source": [
    "#### Los resultados del coeficiente de correlación \"manual\" y con la función de Numpy son coincidentes."
   ]
  },
  {
   "cell_type": "code",
   "execution_count": null,
   "id": "f015941d",
   "metadata": {},
   "outputs": [],
   "source": []
  }
 ],
 "metadata": {
  "kernelspec": {
   "display_name": "Python 3 (ipykernel)",
   "language": "python",
   "name": "python3"
  },
  "language_info": {
   "codemirror_mode": {
    "name": "ipython",
    "version": 3
   },
   "file_extension": ".py",
   "mimetype": "text/x-python",
   "name": "python",
   "nbconvert_exporter": "python",
   "pygments_lexer": "ipython3",
   "version": "3.10.9"
  }
 },
 "nbformat": 4,
 "nbformat_minor": 5
}
